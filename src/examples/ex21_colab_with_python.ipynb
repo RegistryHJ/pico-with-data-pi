{
  "nbformat": 4,
  "nbformat_minor": 0,
  "metadata": {
    "colab": {
      "provenance": [],
      "authorship_tag": "ABX9TyMaxQi3IT6oTW1Txj1/HfkV",
      "include_colab_link": true
    },
    "kernelspec": {
      "name": "python3",
      "display_name": "Python 3"
    },
    "language_info": {
      "name": "python"
    }
  },
  "cells": [
    {
      "cell_type": "markdown",
      "metadata": {
        "id": "view-in-github",
        "colab_type": "text"
      },
      "source": [
        "<a href=\"https://colab.research.google.com/github/RegistryHJ/pico-with-data-pi/blob/main/src/examples/ex21_colab_with_python.ipynb\" target=\"_parent\"><img src=\"https://colab.research.google.com/assets/colab-badge.svg\" alt=\"Open In Colab\"/></a>"
      ]
    },
    {
      "cell_type": "markdown",
      "source": [
        "# Google Colab 사용 해보기 + Python 기본 문법\n",
        "\n"
      ],
      "metadata": {
        "id": "ubQIeiRNOVqy"
      }
    },
    {
      "cell_type": "markdown",
      "source": [
        "### 1. 입출력(Input/Output)"
      ],
      "metadata": {
        "id": "GHLRLa2ROnRh"
      }
    },
    {
      "cell_type": "code",
      "execution_count": 1,
      "metadata": {
        "colab": {
          "base_uri": "https://localhost:8080/"
        },
        "id": "UGmpTPCiOJyY",
        "outputId": "027a7d86-e4bc-434c-a740-2abfb85fcc27"
      },
      "outputs": [
        {
          "output_type": "stream",
          "name": "stdout",
          "text": [
            "Hello, World!\n"
          ]
        }
      ],
      "source": [
        "# 출력\n",
        "print(\"Hello, World!\")"
      ]
    },
    {
      "cell_type": "code",
      "source": [
        "a = input()             # 키보드 입력을 받음\n",
        "\n",
        "# 출력\n",
        "print(a)"
      ],
      "metadata": {
        "colab": {
          "base_uri": "https://localhost:8080/"
        },
        "id": "eN3Bl9LsOxSD",
        "outputId": "eb93d6d6-478a-4ec6-c349-4f58c7ba0f26"
      },
      "execution_count": 2,
      "outputs": [
        {
          "output_type": "stream",
          "name": "stdout",
          "text": [
            "Hello, World!\n",
            "Hello, World!\n"
          ]
        }
      ]
    },
    {
      "cell_type": "markdown",
      "source": [
        "### 2. 변수(Variables)"
      ],
      "metadata": {
        "id": "Hf062_-QO6oF"
      }
    },
    {
      "cell_type": "code",
      "source": [
        "a = 10                  # 정수형 변수\n",
        "b = 5.3                 # 실수형 변수\n",
        "c = \"Hello, World!\"     # 문자열 변수\n",
        "d = True                # bool 변수\n",
        "\n",
        "# 출력\n",
        "print(a)\n",
        "print(b)\n",
        "print(c)\n",
        "print(d)"
      ],
      "metadata": {
        "colab": {
          "base_uri": "https://localhost:8080/"
        },
        "id": "R251T4gIPHEo",
        "outputId": "ca12e0b6-2189-453b-f688-ce57350b81e2"
      },
      "execution_count": 3,
      "outputs": [
        {
          "output_type": "stream",
          "name": "stdout",
          "text": [
            "10\n",
            "5.3\n",
            "Hello, World!\n",
            "True\n"
          ]
        }
      ]
    },
    {
      "cell_type": "markdown",
      "source": [
        "### 3. 산술 연산자(Arithmetic Operators)"
      ],
      "metadata": {
        "id": "e1b0bm5kPXBI"
      }
    },
    {
      "cell_type": "code",
      "source": [
        "a = 30\n",
        "b = 20\n",
        "\n",
        "c = a + b               # 덧셈 연산\n",
        "d = a - b               # 뺄셈 연산\n",
        "e = a * b               # 곱셈 연산\n",
        "f = a / b               # 나눗셈 연산\n",
        "g = a // b              # 몫 연산\n",
        "h = a % b               # 나머지 연산\n",
        "\n",
        "# 출력\n",
        "print(c)\n",
        "print(d)\n",
        "print(e)\n",
        "print(f)\n",
        "print(g)\n",
        "print(h)"
      ],
      "metadata": {
        "colab": {
          "base_uri": "https://localhost:8080/"
        },
        "id": "BVk-PJilPVwi",
        "outputId": "fffa137e-e1be-4e06-bb6f-06724d57b6ca"
      },
      "execution_count": 4,
      "outputs": [
        {
          "output_type": "stream",
          "name": "stdout",
          "text": [
            "50\n",
            "10\n",
            "600\n",
            "1.5\n",
            "1\n",
            "10\n"
          ]
        }
      ]
    },
    {
      "cell_type": "markdown",
      "source": [
        "### 4. 비교 연산자"
      ],
      "metadata": {
        "id": "rqTcp3mPQv_P"
      }
    },
    {
      "cell_type": "code",
      "source": [
        "a = 10\n",
        "b = 5\n",
        "\n",
        "# 출력\n",
        "print(a == b)\n",
        "print(a > b)\n",
        "print(a >= b)\n",
        "print(a < b)\n",
        "print(a <= b)\n",
        "print(a != b)"
      ],
      "metadata": {
        "colab": {
          "base_uri": "https://localhost:8080/"
        },
        "id": "uydZ7LcxRPLB",
        "outputId": "0e5fb6d9-07fa-4050-f27c-0c57d2286d46"
      },
      "execution_count": 5,
      "outputs": [
        {
          "output_type": "stream",
          "name": "stdout",
          "text": [
            "False\n",
            "True\n",
            "True\n",
            "False\n",
            "False\n",
            "True\n"
          ]
        }
      ]
    },
    {
      "cell_type": "markdown",
      "source": [
        "### 5. 주석(Comments)"
      ],
      "metadata": {
        "id": "a2iitOSeRwMF"
      }
    },
    {
      "cell_type": "code",
      "source": [
        "# 주석은 문장 앞에 #을 붙이면 활성화되며, 실제로 실행되는 문장이 아닙니다.\n",
        "# a = 5     # '#'이 문장 앞에 붙었으므로 코드가 주석 처리되어 실행이 되지 않습니다. (= 코드 비활성화)"
      ],
      "metadata": {
        "id": "jVgd0P-LR2zQ"
      },
      "execution_count": 6,
      "outputs": []
    },
    {
      "cell_type": "markdown",
      "source": [
        "### 6. 조건문(Conditional)"
      ],
      "metadata": {
        "id": "0czd04a0SVLP"
      }
    },
    {
      "cell_type": "code",
      "source": [
        "a = 20\n",
        "\n",
        "# if-else\n",
        "if a == 10:\n",
        "  print(\"a는 10입니다.\")\n",
        "else:\n",
        "  print(\"a는 10이 아닙니다.\")\n",
        "\n",
        "# if-elif-else\n",
        "if a == 10:\n",
        "  print(\"a는 10입니다.\")\n",
        "elif a == 20:\n",
        "  print(\"a는 20입니다.\")\n",
        "else:\n",
        "  print(\"a는 초기화되지 않았습니다.\")\n",
        "\n",
        "# match-case\n",
        "match a:\n",
        "  case 10:\n",
        "    print(\"a는 10입니다.\")\n",
        "  case 20:\n",
        "    print(\"a는 20입니다.\")\n",
        "  case _:\n",
        "    print(\"a는 초기화되지 않았습니다.\")"
      ],
      "metadata": {
        "colab": {
          "base_uri": "https://localhost:8080/"
        },
        "id": "zWRXSUgdSckY",
        "outputId": "068084b4-5f6e-4e5f-e5e0-1123c434aee1"
      },
      "execution_count": 7,
      "outputs": [
        {
          "output_type": "stream",
          "name": "stdout",
          "text": [
            "a는 10이 아닙니다.\n",
            "a는 20입니다.\n",
            "a는 20입니다.\n"
          ]
        }
      ]
    },
    {
      "cell_type": "markdown",
      "source": [
        "### 7. 반복문(Iteration)"
      ],
      "metadata": {
        "id": "_YcorH2xUE5x"
      }
    },
    {
      "cell_type": "code",
      "source": [
        "# for 문 (range(시작값0, 끝값 - 1, 증감))\n",
        "for i in range(10):\n",
        "  print(i, end=\" \")\n",
        "print()\n",
        "\n",
        "for i in range(1, 10):\n",
        "  print(i, end=\" \")\n",
        "print()\n",
        "\n",
        "for i in range(0, 10, 2):\n",
        "  print(i, end=\" \")\n",
        "print()\n",
        "\n",
        "# while 문\n",
        "i = 0\n",
        "while True:\n",
        "  print(i, end=\" \")\n",
        "  i = i + 2\n",
        "  if i > 9:\n",
        "    break"
      ],
      "metadata": {
        "colab": {
          "base_uri": "https://localhost:8080/"
        },
        "id": "qhuudC4-UNZd",
        "outputId": "0bd5bf36-7e78-459c-c67d-38fd3b42db97"
      },
      "execution_count": 8,
      "outputs": [
        {
          "output_type": "stream",
          "name": "stdout",
          "text": [
            "0 1 2 3 4 5 6 7 8 9 \n",
            "1 2 3 4 5 6 7 8 9 \n",
            "0 2 4 6 8 \n",
            "0 2 4 6 8 "
          ]
        }
      ]
    },
    {
      "cell_type": "markdown",
      "source": [
        "### 8. 함수(Functions)"
      ],
      "metadata": {
        "id": "999EtdkmVlTZ"
      }
    },
    {
      "cell_type": "code",
      "source": [
        "# f(x) = x + 5\n",
        "def f(x):\n",
        "  return x + 5\n",
        "\n",
        "f(10)"
      ],
      "metadata": {
        "colab": {
          "base_uri": "https://localhost:8080/"
        },
        "id": "p7hhQmgJVqMg",
        "outputId": "dcf8773f-f428-4eca-fb75-43f9860ce1ce"
      },
      "execution_count": 9,
      "outputs": [
        {
          "output_type": "execute_result",
          "data": {
            "text/plain": [
              "15"
            ]
          },
          "metadata": {},
          "execution_count": 9
        }
      ]
    },
    {
      "cell_type": "code",
      "source": [
        "# g(x, y) = 2x + y + 5\n",
        "def g(x, y):\n",
        "  return 2 * x + y + 5\n",
        "\n",
        "g(10, 2)"
      ],
      "metadata": {
        "colab": {
          "base_uri": "https://localhost:8080/"
        },
        "id": "dNaSMnGgXWdg",
        "outputId": "f85e57e6-02fc-484c-a0d0-9cb3bf2d91bb"
      },
      "execution_count": 10,
      "outputs": [
        {
          "output_type": "execute_result",
          "data": {
            "text/plain": [
              "27"
            ]
          },
          "metadata": {},
          "execution_count": 10
        }
      ]
    }
  ]
}