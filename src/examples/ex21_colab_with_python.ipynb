{
  "nbformat": 4,
  "nbformat_minor": 0,
  "metadata": {
    "colab": {
      "provenance": [],
      "authorship_tag": "ABX9TyMahOD9FezFH3pTY3Hm1+Ho",
      "include_colab_link": true
    },
    "kernelspec": {
      "name": "python3",
      "display_name": "Python 3"
    },
    "language_info": {
      "name": "python"
    }
  },
  "cells": [
    {
      "cell_type": "markdown",
      "metadata": {
        "id": "view-in-github",
        "colab_type": "text"
      },
      "source": [
        "<a href=\"https://colab.research.google.com/github/RegistryHJ/pico-with-data-pi/blob/main/src/examples/ex21_colab_with_python.ipynb\" target=\"_parent\"><img src=\"https://colab.research.google.com/assets/colab-badge.svg\" alt=\"Open In Colab\"/></a>"
      ]
    },
    {
      "cell_type": "markdown",
      "source": [
        "# Google Colab 사용 해보기 + Python 기본 문법\n",
        "\n"
      ],
      "metadata": {
        "id": "ubQIeiRNOVqy"
      }
    },
    {
      "cell_type": "markdown",
      "source": [
        "### 1. 입출력(Input/Output)"
      ],
      "metadata": {
        "id": "GHLRLa2ROnRh"
      }
    },
    {
      "cell_type": "code",
      "execution_count": 1,
      "metadata": {
        "colab": {
          "base_uri": "https://localhost:8080/"
        },
        "id": "UGmpTPCiOJyY",
        "outputId": "ef66b74c-40db-48ee-d4c1-0ba21021201a"
      },
      "outputs": [
        {
          "output_type": "stream",
          "name": "stdout",
          "text": [
            "Hello, World!\n"
          ]
        }
      ],
      "source": [
        "# 출력\n",
        "print(\"Hello, World!\")"
      ]
    },
    {
      "cell_type": "code",
      "source": [
        "a = input()             # 키보드 입력을 받음\n",
        "\n",
        "# 출력\n",
        "print(a)"
      ],
      "metadata": {
        "colab": {
          "base_uri": "https://localhost:8080/"
        },
        "id": "eN3Bl9LsOxSD",
        "outputId": "4fa55f5e-3853-4ad5-86cb-22ae63490d64"
      },
      "execution_count": 2,
      "outputs": [
        {
          "output_type": "stream",
          "name": "stdout",
          "text": [
            "Hello, World!\n",
            "Hello, World!\n"
          ]
        }
      ]
    },
    {
      "cell_type": "markdown",
      "source": [
        "### 2. 변수(Variables)"
      ],
      "metadata": {
        "id": "Hf062_-QO6oF"
      }
    },
    {
      "cell_type": "code",
      "source": [
        "a = 10                  # 정수형 변수\n",
        "b = 5.3                 # 실수형 변수\n",
        "c = \"Hello, World!\"     # 문자열 변수\n",
        "d = True                # bool 변수\n",
        "\n",
        "# 출력\n",
        "print(a)\n",
        "print(b)\n",
        "print(c)\n",
        "print(d)"
      ],
      "metadata": {
        "colab": {
          "base_uri": "https://localhost:8080/"
        },
        "id": "R251T4gIPHEo",
        "outputId": "90f6e355-5dd6-4a84-dd6b-7810f6839aaa"
      },
      "execution_count": 3,
      "outputs": [
        {
          "output_type": "stream",
          "name": "stdout",
          "text": [
            "10\n",
            "20\n",
            "Hello, World!\n",
            "True\n"
          ]
        }
      ]
    },
    {
      "cell_type": "markdown",
      "source": [
        "### 3. 산술 연산자(Arithmetic Operators)"
      ],
      "metadata": {
        "id": "e1b0bm5kPXBI"
      }
    },
    {
      "cell_type": "code",
      "source": [
        "a = 30\n",
        "b = 20\n",
        "\n",
        "c = a + b               # 덧셈 연산\n",
        "d = a - b               # 뺄셈 연산\n",
        "e = a * b               # 곱셈 연산\n",
        "f = a / b               # 나눗셈 연산\n",
        "g = a // b              # 몫 연산\n",
        "h = a % b               # 나머지 연산\n",
        "\n",
        "# 출력\n",
        "print(c)\n",
        "print(d)\n",
        "print(e)\n",
        "print(f)\n",
        "print(g)\n",
        "print(h)"
      ],
      "metadata": {
        "colab": {
          "base_uri": "https://localhost:8080/"
        },
        "id": "BVk-PJilPVwi",
        "outputId": "67dc594a-a546-4c9c-964d-e311887591c5"
      },
      "execution_count": 6,
      "outputs": [
        {
          "output_type": "stream",
          "name": "stdout",
          "text": [
            "50\n",
            "10\n",
            "600\n",
            "1.5\n",
            "1\n",
            "10\n"
          ]
        }
      ]
    },
    {
      "cell_type": "markdown",
      "source": [
        "### 4. 비교 연산자"
      ],
      "metadata": {
        "id": "rqTcp3mPQv_P"
      }
    },
    {
      "cell_type": "code",
      "source": [
        "a = 10\n",
        "b = 5\n",
        "\n",
        "# 출력\n",
        "print(a == b)\n",
        "print(a > b)\n",
        "print(a >= b)\n",
        "print(a < b)\n",
        "print(a <= b)\n",
        "print(a != b)"
      ],
      "metadata": {
        "colab": {
          "base_uri": "https://localhost:8080/"
        },
        "id": "uydZ7LcxRPLB",
        "outputId": "6fa68db6-fc28-4932-bffd-d94dd5e2ec01"
      },
      "execution_count": 27,
      "outputs": [
        {
          "output_type": "stream",
          "name": "stdout",
          "text": [
            "False\n",
            "True\n",
            "True\n",
            "False\n",
            "False\n",
            "True\n"
          ]
        }
      ]
    },
    {
      "cell_type": "markdown",
      "source": [
        "### 5. 주석(Comments)"
      ],
      "metadata": {
        "id": "a2iitOSeRwMF"
      }
    },
    {
      "cell_type": "code",
      "source": [
        "# 주석은 문장 앞에 #을 붙이면 활성화되며, 실제로 실행되는 문장이 아닙니다.\n",
        "# a = 5     # '#'이 문장 앞에 붙었으므로 코드가 주석 처리되어 실행이 되지 않습니다. (= 코드 비활성화)"
      ],
      "metadata": {
        "id": "jVgd0P-LR2zQ"
      },
      "execution_count": null,
      "outputs": []
    },
    {
      "cell_type": "markdown",
      "source": [
        "### 6. 조건문(Conditional)"
      ],
      "metadata": {
        "id": "0czd04a0SVLP"
      }
    },
    {
      "cell_type": "code",
      "source": [
        "a = 20\n",
        "\n",
        "# if-else\n",
        "if a == 10:\n",
        "  print(\"a는 10입니다.\")\n",
        "else:\n",
        "  print(\"a는 10이 아닙니다.\")\n",
        "\n",
        "# if-elif-else\n",
        "if a == 10:\n",
        "  print(\"a는 10입니다.\")\n",
        "elif a == 20:\n",
        "  print(\"a는 20입니다.\")\n",
        "else:\n",
        "  print(\"a는 초기화되지 않았습니다.\")\n",
        "\n",
        "# match-case\n",
        "match a:\n",
        "  case 10:\n",
        "    print(\"a는 10입니다.\")\n",
        "  case 20:\n",
        "    print(\"a는 20입니다.\")\n",
        "  case _:\n",
        "    print(\"a는 초기화되지 않았습니다.\")"
      ],
      "metadata": {
        "colab": {
          "base_uri": "https://localhost:8080/"
        },
        "id": "zWRXSUgdSckY",
        "outputId": "d15a9e07-179d-4148-915b-bf90efeeef70"
      },
      "execution_count": 10,
      "outputs": [
        {
          "output_type": "stream",
          "name": "stdout",
          "text": [
            "a는 10이 아닙니다.\n",
            "a는 20입니다.\n",
            "a는 20입니다.\n"
          ]
        }
      ]
    },
    {
      "cell_type": "markdown",
      "source": [
        "### 7. 반복문(Iteration)"
      ],
      "metadata": {
        "id": "_YcorH2xUE5x"
      }
    },
    {
      "cell_type": "code",
      "source": [
        "# for 문 (range(시작값0, 끝값 - 1, 증감))\n",
        "for i in range(10):\n",
        "  print(i, end=\" \")\n",
        "print()\n",
        "\n",
        "for i in range(1, 10):\n",
        "  print(i, end=\" \")\n",
        "print()\n",
        "\n",
        "for i in range(0, 10, 2):\n",
        "  print(i, end=\" \")\n",
        "print()\n",
        "\n",
        "# while 문\n",
        "i = 0\n",
        "while True:\n",
        "  print(i, end=\" \")\n",
        "  i = i + 2\n",
        "  if i > 9:\n",
        "    break"
      ],
      "metadata": {
        "colab": {
          "base_uri": "https://localhost:8080/"
        },
        "id": "qhuudC4-UNZd",
        "outputId": "eb85bd75-dc15-4c91-8a87-7503d53b8289"
      },
      "execution_count": 20,
      "outputs": [
        {
          "output_type": "stream",
          "name": "stdout",
          "text": [
            "0 1 2 3 4 5 6 7 8 9 \n",
            "1 2 3 4 5 6 7 8 9 \n",
            "0 2 4 6 8 \n",
            "0 2 4 6 8 "
          ]
        }
      ]
    },
    {
      "cell_type": "markdown",
      "source": [
        "### 8. 함수(Functions)"
      ],
      "metadata": {
        "id": "999EtdkmVlTZ"
      }
    },
    {
      "cell_type": "code",
      "source": [
        "# f(x) = x + 5\n",
        "def f(x):\n",
        "  return x + 5\n",
        "\n",
        "f(10)\n",
        "\n",
        "# g(x, y) = 2x + y + 5\n",
        "def g(x, y):\n",
        "  return 2 * x + y + 5\n",
        "\n",
        "g(10, 2)"
      ],
      "metadata": {
        "colab": {
          "base_uri": "https://localhost:8080/"
        },
        "id": "p7hhQmgJVqMg",
        "outputId": "e7953c77-2031-4a98-819f-e365eb8e5664"
      },
      "execution_count": 25,
      "outputs": [
        {
          "output_type": "execute_result",
          "data": {
            "text/plain": [
              "27"
            ]
          },
          "metadata": {},
          "execution_count": 25
        }
      ]
    }
  ]
}